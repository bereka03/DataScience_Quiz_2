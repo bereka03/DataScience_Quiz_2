{
 "cells": [
  {
   "cell_type": "code",
   "execution_count": null,
   "id": "df30d5f9",
   "metadata": {},
   "outputs": [],
   "source": [
    "# Giorgi Berekashvili"
   ]
  },
  {
   "cell_type": "markdown",
   "id": "edf1aed4",
   "metadata": {
    "id": "edf1aed4"
   },
   "source": [
    "## Quiz 2 - Probability, Statistics (ლექცია 4, ლექცია 5) - 7 ქულა\n",
    "\n",
    "იხილეთ LoanStatus.csv მონაცემთა ფაილი, რომელშიც მოცემულია კლიენტთა ინფორმაცია შემდეგი სვეტებით:\n",
    "\n",
    "Loan ID - კლიენტის ID\n",
    "\n",
    "Gender - სქესი\n",
    "\n",
    "Married - დაქორზინებული არის თუ არა\n",
    "\n",
    "Dependents - ოჯახის წევრების რაოდენობა, რომლის ფინანსურ მხარდაჭერასაც უზრუნველყოფს კლიენტი\n",
    "\n",
    "Education - არის თუ არა უმაღლესი განათლების მქონე\n",
    "\n",
    "Self_Employed - არის თუ არა თვითდასაქმებული\n",
    "\n",
    "ApplicantIncome - კლიენტის შემოსავალი (per month)\n",
    "\n",
    "LoanAmount  - სესხის რაოდენობა (ათასებში)\n",
    "\n",
    "Loan_Amount_Term - სესხის ვადა\n",
    "\n",
    "Credit_History - როგორი საკრედიტო ისტორია აქვს კლიენტს (1-კარგი, 0-ცუდი)\n",
    "\n",
    "Property_Area - საცხოვრებელი და სამუშაო ადგილი\n",
    "\n",
    "Loan_Status - სესხის გაცემის სტატუსი\n"
   ]
  },
  {
   "cell_type": "markdown",
   "id": "3b4fc6c6",
   "metadata": {
    "id": "3b4fc6c6"
   },
   "source": [
    "## დავალება 1: აღწერილობითი სტატისტიკა  (1 ქულა)\n",
    "ა) გახსენით ფაილი და დაბეჭდეთ აღწერილობითი სტატისტიკის მონაცემები თქვენთვის საინტერესო ველებისთვის, როგორიცაა საშუალო, მედიანა, მოდა, სტდ. გადახრა, ა.შ. (მოახდინეთ სიტყვიერი ინტერპრეტაცია);\n",
    "\n",
    "ბ) დაითვალეთ თითოეულ სვეტში ცარიელი მნიშვნელობების რაოდენობა შესაბამისი ფუნქციით"
   ]
  },
  {
   "cell_type": "code",
   "execution_count": 1,
   "id": "b786db79",
   "metadata": {
    "id": "b786db79"
   },
   "outputs": [],
   "source": [
    "import pandas as pd\n",
    "import warnings\n",
    "\n",
    "from scipy.stats import norm\n",
    "warnings.filterwarnings(\"ignore\")"
   ]
  },
  {
   "cell_type": "code",
   "execution_count": 43,
   "id": "1abee773",
   "metadata": {
    "id": "1abee773"
   },
   "outputs": [
    {
     "name": "stdout",
     "output_type": "stream",
     "text": [
      "საშუალო სესხის ოდენობა დაოჯახებულ ადამიანებში:  155.75\n",
      "სესხის მედიანა დაოჯახებულ ადამიანებში:  132.0\n",
      "სესხის საშუალო გადახრა დაოჯახებულ ადამიანებში:  89.93426668272662\n",
      "სესხის მოდა დაოჯახებულ ადამიანებში:  0    100.0\n",
      "1    110.0\n",
      "Name: LoanAmount, dtype: float64\n"
     ]
    }
   ],
   "source": [
    "df = pd.read_csv('LoanStatus.csv')\n",
    "filt = df.Married=='Yes'\n",
    "print(\"საშუალო სესხის ოდენობა დაოჯახებულ ადამიანებში: \", df.loc[filt].LoanAmount.mean())\n",
    "print(\"სესხის მედიანა დაოჯახებულ ადამიანებში: \", df.loc[filt].LoanAmount.median())\n",
    "print(\"სესხის საშუალო გადახრა დაოჯახებულ ადამიანებში: \", df.loc[filt].LoanAmount.std())\n",
    "print(\"სესხის მოდა დაოჯახებულ ადამიანებში: \", df.loc[filt].LoanAmount.mode())"
   ]
  },
  {
   "cell_type": "code",
   "execution_count": 48,
   "id": "eacde097",
   "metadata": {
    "id": "eacde097"
   },
   "outputs": [
    {
     "name": "stdout",
     "output_type": "stream",
     "text": [
      "Loan_ID              0\n",
      "Gender              13\n",
      "Married              3\n",
      "Dependents          15\n",
      "Education            0\n",
      "Self_Employed       32\n",
      "ApplicantIncome      0\n",
      "LoanAmount          22\n",
      "Loan_Amount_Term    14\n",
      "Credit_History      50\n",
      "Property_Area        0\n",
      "Loan_Status          0\n",
      "dtype: int64\n"
     ]
    }
   ],
   "source": [
    "print(df.isnull().sum())"
   ]
  },
  {
   "cell_type": "markdown",
   "id": "765decd7",
   "metadata": {
    "id": "765decd7"
   },
   "source": [
    "## დავალება 2:  ალბათობა (1 ქულა)\n",
    "ა) დაითვალეთ, რა არის სესხის აღების ალბათობა Loan_Status-ის მიხედვით.\n",
    "\n",
    "ბ) რა არის სესხის აღების ალბათობა, მაშინ როცა კლიენტს კარგი საკრედიტო ისტორია აქვს.\n",
    "\n",
    "კოდს დაურთეთ თქვენი კომენტარები მოკლედ"
   ]
  },
  {
   "cell_type": "code",
   "execution_count": 33,
   "id": "98aafed8",
   "metadata": {
    "id": "98aafed8"
   },
   "outputs": [
    {
     "name": "stdout",
     "output_type": "stream",
     "text": [
      "Probability of getting a loan: 0.6873\n",
      "Probability of getting a loan with good credit history: 0.7958\n"
     ]
    }
   ],
   "source": [
    "loan_approved = df[df['Loan_Status'] == 'Y'].shape[0]\n",
    "total_applications = df.shape[0]\n",
    "prob_loan_approved = loan_approved / total_applications\n",
    "print(f\"Probability of getting a loan: {prob_loan_approved:.4f}\")\n",
    "# Comment: Calculates the fraction of loan applications that were approved\n",
    "\n",
    "# b) Calculate probability of getting a loan when credit history is good\n",
    "good_credit = df[df['Credit_History'] == 1]\n",
    "good_credit_approved = good_credit[good_credit['Loan_Status'] == 'Y'].shape[0]\n",
    "total_good_credit = good_credit.shape[0]\n",
    "prob_loan_good_credit = good_credit_approved / total_good_credit\n",
    "print(f\"Probability of getting a loan with good credit history: {prob_loan_good_credit:.4f}\")"
   ]
  },
  {
   "cell_type": "code",
   "execution_count": null,
   "id": "b2a3f23c",
   "metadata": {
    "id": "b2a3f23c"
   },
   "outputs": [],
   "source": []
  },
  {
   "cell_type": "markdown",
   "id": "80eb6167",
   "metadata": {
    "id": "80eb6167"
   },
   "source": [
    "## დავალება 3: გრაფიკული წარმოდგენა (1 ქულა)\n",
    "ა) seaborn.distplot ან seaborn.histplot() ფუნქციის გამოყენებით, ააგეთ რომელიმე სვეტისთვის შესაბამისი გრაფიკი. ლინკი: https://seaborn.pydata.org/generated/seaborn.distplot.html\n",
    "\n",
    "ბ) matplotlib.pyplot.hist ფუნქციის გამოყენებით, ააგეთ რომელიმე სვეტისთვის შესაბამისი ჰისტოგრამი, რომელშიც bin-ების (ჰოსტოგრამაში ბლოკების) რაოდენობას თქვენ განსაზღვრავთ (მაგ. ჰისტოგრამაში 10 სვეტად წარმოადგინოთ მონაცემები.) იხ. დოკუმენტაცია შემდეგ ლინკზე: https://matplotlib.org/stable/api/_as_gen/matplotlib.pyplot.hist.html\n",
    "\n",
    "Future warnings-ების გამოსართავად ჩაწერეთ შემდეგი ბრძანებები:\n",
    "import warnings\n",
    "warnings.filterwarnings(\"ignore\")\n",
    "\n",
    "კოდს დაურთეთ თქვენი კომენტარები მოკლედ"
   ]
  },
  {
   "cell_type": "code",
   "execution_count": 35,
   "id": "4acb2e7f",
   "metadata": {
    "id": "4acb2e7f"
   },
   "outputs": [],
   "source": [
    "import numpy as np\n",
    "import matplotlib.pyplot as plt\n",
    "import seaborn as sns"
   ]
  },
  {
   "cell_type": "code",
   "execution_count": 36,
   "id": "6e98aca4",
   "metadata": {
    "id": "6e98aca4"
   },
   "outputs": [
    {
     "data": {
      "image/png": "[encoded data removed]",
      "text/plain": [
       "<Figure size 1000x600 with 1 Axes>"
      ]
     },
     "metadata": {},
     "output_type": "display_data"
    },
    {
     "data": {
      "image/png": "[encoded data removed]",
      "text/plain": [
       "<Figure size 1000x600 with 1 Axes>"
      ]
     },
     "metadata": {},
     "output_type": "display_data"
    }
   ],
   "source": [
    "# a) Plot distribution using seaborn\n",
    "plt.figure(figsize=(10, 6))\n",
    "sns.distplot(df['LoanAmount'], kde=False, bins=30)\n",
    "plt.title('Distribution of Loan Amounts')\n",
    "plt.xlabel('Loan Amount (in thousands)')\n",
    "plt.show()\n",
    "# Comment: Plots the distribution of loan amounts using seaborn.distplot\n",
    "\n",
    "# b) Plot histogram using matplotlib, specifying number of bins\n",
    "plt.figure(figsize=(10, 6))\n",
    "plt.hist(df['LoanAmount'], bins=10, edgecolor='black')\n",
    "plt.title('Histogram of Loan Amounts')\n",
    "plt.xlabel('Loan Amount (in thousands)')\n",
    "plt.ylabel('Count')\n",
    "plt.show()\n",
    "# Comment: Plots a histogram of loan amounts with 10 bins using plt.hist"
   ]
  },
  {
   "cell_type": "code",
   "execution_count": null,
   "id": "47399106",
   "metadata": {
    "id": "47399106"
   },
   "outputs": [],
   "source": []
  },
  {
   "cell_type": "markdown",
   "id": "7331343b",
   "metadata": {
    "id": "7331343b"
   },
   "source": [
    "## დავალება 4:  კუმულაციური ალბათობა (Cumulative distribution function) - (1 ქულა)\n",
    "დაითვალეთ შემდეგი კუმულაციური ალბათობა scipy.stats.norm.cdf() ფუნქციის გამოყენებით.\n",
    "დაითვალეთ კლიენტების რამდენ პროცენტს აქვს შემოსავალი 2000 ევროზე ნაკლები ყოველთვიურად.\n",
    "norm.cdf(x, mean_val, std_dev_val) ფუნქციის პირველი პარამეტრია სასაზღვრო მნიშვნელობა, მეორე- საშუალო, მესამე -სტდ. გადახრა.\n",
    "\n",
    "#### მოახდინეთ შედეგების სიტყვიერი ინტერპრეტაცია"
   ]
  },
  {
   "cell_type": "code",
   "execution_count": 37,
   "id": "be4adcf9",
   "metadata": {
    "id": "be4adcf9"
   },
   "outputs": [],
   "source": [
    "from scipy.stats import norm"
   ]
  },
  {
   "cell_type": "code",
   "execution_count": 38,
   "id": "ea939c97",
   "metadata": {
    "id": "ea939c97"
   },
   "outputs": [
    {
     "name": "stdout",
     "output_type": "stream",
     "text": [
      "Mean monthly income: 5403.46\n",
      "Standard deviation of income: 6109.04\n",
      "28.87% of customers have monthly income less than 2000\n"
     ]
    }
   ],
   "source": [
    "# Calculate percentage of customers with income less than 2000 using scipy.stats.norm.cdf()\n",
    "applicant_income = df['ApplicantIncome']\n",
    "mean_income = applicant_income.mean()\n",
    "std_income = applicant_income.std()\n",
    "\n",
    "threshold = 2000\n",
    "perc_under_2000 = norm.cdf(threshold, loc=mean_income, scale=std_income)\n",
    "\n",
    "print(f\"Mean monthly income: {mean_income:.2f}\")\n",
    "print(f\"Standard deviation of income: {std_income:.2f}\")\n",
    "print(f\"{perc_under_2000*100:.2f}% of customers have monthly income less than {threshold}\")"
   ]
  },
  {
   "cell_type": "code",
   "execution_count": null,
   "id": "ac6083ba",
   "metadata": {
    "id": "ac6083ba"
   },
   "outputs": [],
   "source": []
  },
  {
   "cell_type": "markdown",
   "id": "ab5b9a5b",
   "metadata": {
    "id": "ab5b9a5b"
   },
   "source": [
    "## დავალება 5: სტატისტიკა (1 ქულა)\n",
    "\n",
    "ააგეთ 2 boxplot დიაგრამა seaborn.boxplot() ფუნქციის გამოყენებით რომელიმე ველის მიმართ."
   ]
  },
  {
   "cell_type": "code",
   "execution_count": 39,
   "id": "60901cb8",
   "metadata": {
    "id": "60901cb8"
   },
   "outputs": [
    {
     "data": {
      "image/png": "[encoded data removed]",
      "text/plain": [
       "<Figure size 1500x500 with 2 Axes>"
      ]
     },
     "metadata": {},
     "output_type": "display_data"
    }
   ],
   "source": [
    "import seaborn as sns\n",
    "import matplotlib.pyplot as plt\n",
    "\n",
    "# Create a figure with two subplots\n",
    "fig, (ax1, ax2) = plt.subplots(1, 2, figsize=(15, 5))\n",
    "\n",
    "# Plot boxplot of LoanAmount by Credit_History\n",
    "sns.boxplot(x='Credit_History', y='LoanAmount', data=df, ax=ax1)\n",
    "ax1.set_title('LoanAmount by Credit_History')\n",
    "ax1.set_xlabel('Credit_History')\n",
    "ax1.set_ylabel('LoanAmount')\n",
    "\n",
    "# Plot boxplot of LoanAmount by Education\n",
    "sns.boxplot(x='Education', y='LoanAmount', data=df, ax=ax2)\n",
    "ax2.set_title('LoanAmount by Education')\n",
    "ax2.set_xlabel('Education')\n",
    "ax2.set_ylabel('LoanAmount')\n",
    "\n",
    "plt.show()"
   ]
  },
  {
   "cell_type": "code",
   "execution_count": null,
   "id": "d0d8a3bc",
   "metadata": {
    "id": "d0d8a3bc"
   },
   "outputs": [],
   "source": []
  },
  {
   "cell_type": "markdown",
   "id": "4ae13cb5",
   "metadata": {
    "id": "4ae13cb5"
   },
   "source": [
    "## დავალება 6: t-test (2 ქულა)\n",
    "ა) გააკეთეთ t-test ანალიზი (One sample t-test)  რომელიმე სვეტის მიმართ და გამოიყენეთ  ttest_1samp ფუნქცია.\n",
    "\n",
    "ბ) გააკეთეთ t-test ანალიზი (Two sample t-test) რომელიმე სვეტის მიმართ და გამოიყენეთ  ttest_ind ფუნქცია.\n",
    "\n",
    "განსაზღვრეთ ნულოვანი და ალტერნატიული ჰიპოთეზა, გამოიყენეთ აღნიშნული ფუნქციები და მოახდინეთ შედეგების სიტყვიერი ინტერპრეტაცია."
   ]
  },
  {
   "cell_type": "code",
   "execution_count": 41,
   "id": "f05f6747",
   "metadata": {
    "id": "f05f6747"
   },
   "outputs": [],
   "source": [
    "from scipy.stats import ttest_1samp,ttest_ind"
   ]
  },
  {
   "cell_type": "code",
   "execution_count": 50,
   "id": "116b95c4",
   "metadata": {
    "id": "116b95c4"
   },
   "outputs": [
    {
     "name": "stdout",
     "output_type": "stream",
     "text": [
      "One sample t-test results:\n",
      "Test statistic: nan\n",
      "p-value: nan\n",
      "We cannot reject the null hypothesis. The data is insufficient to conclude that the mean loan amount differs from 130 thousand.\n",
      "\n",
      "Two sample t-test results:\n",
      "Test statistic: nan\n",
      "p-value: nan\n",
      "We cannot reject the null hypothesis. The data is insufficient to conclude that the mean loan amounts differ between males and females.\n"
     ]
    }
   ],
   "source": [
    "# a) One sample t-test\n",
    "# Null hypothesis: Mean loan amount is 130 thousand\n",
    "# Alternative hypothesis: Mean loan amount is not 130 thousand\n",
    "loan_amounts = df['LoanAmount']\n",
    "t_stat, p_val = ttest_1samp(loan_amounts, 130)\n",
    "\n",
    "print(f'One sample t-test results:')\n",
    "print(f'Test statistic: {t_stat:.3f}')\n",
    "print(f'p-value: {p_val:.4f}')\n",
    "\n",
    "if p_val < 0.05:\n",
    "   print('We reject the null hypothesis. The mean loan amount is significantly different from 130 thousand.')\n",
    "else:\n",
    "   print('We cannot reject the null hypothesis. The data is insufficient to conclude that the mean loan amount differs from 130 thousand.')\n",
    "\n",
    "# b) Two sample t-test \n",
    "# Null hypothesis: Mean loan amounts for males and females are equal\n",
    "# Alternative hypothesis: Mean loan amounts for males and females are different\n",
    "\n",
    "male_loans = df[df['Gender'] == 'Male']['LoanAmount']\n",
    "female_loans = df[df['Gender'] == 'Female']['LoanAmount']\n",
    "\n",
    "t_stat, p_val = ttest_ind(male_loans, female_loans)\n",
    "\n",
    "print(f'\\nTwo sample t-test results:')\n",
    "print(f'Test statistic: {t_stat:.3f}') \n",
    "print(f'p-value: {p_val:.4f}')\n",
    "\n",
    "if p_val < 0.05:\n",
    "   print('We reject the null hypothesis. The mean loan amounts for males and females are significantly different.')\n",
    "else:\n",
    "   print('We cannot reject the null hypothesis. The data is insufficient to conclude that the mean loan amounts differ between males and females.')"
   ]
  }
 ],
 "metadata": {
  "colab": {
   "provenance": []
  },
  "kernelspec": {
   "display_name": "Python 3 (ipykernel)",
   "language": "python",
   "name": "python3"
  },
  "language_info": {
   "codemirror_mode": {
    "name": "ipython",
    "version": 3
   },
   "file_extension": ".py",
   "mimetype": "text/x-python",
   "name": "python",
   "nbconvert_exporter": "python",
   "pygments_lexer": "ipython3",
   "version": "3.10.9"
  }
 },
 "nbformat": 4,
 "nbformat_minor": 5
}
